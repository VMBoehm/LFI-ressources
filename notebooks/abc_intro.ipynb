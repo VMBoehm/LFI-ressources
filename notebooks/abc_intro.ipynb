{
 "cells": [
  {
   "cell_type": "code",
   "execution_count": 1,
   "metadata": {},
   "outputs": [],
   "source": [
    "import numpy as np\n",
    "import abcpmc\n",
    "#-- plotting -- \n",
    "import matplotlib as mpl\n",
    "import matplotlib.pyplot as plt\n",
    "mpl.rcParams['text.usetex'] = True\n",
    "mpl.rcParams['font.family'] = 'serif'\n",
    "mpl.rcParams['axes.linewidth'] = 1.5\n",
    "mpl.rcParams['axes.xmargin'] = 1\n",
    "mpl.rcParams['xtick.labelsize'] = 'x-large'\n",
    "mpl.rcParams['xtick.major.size'] = 5\n",
    "mpl.rcParams['xtick.major.width'] = 1.5\n",
    "mpl.rcParams['ytick.labelsize'] = 'x-large'\n",
    "mpl.rcParams['ytick.major.size'] = 5\n",
    "mpl.rcParams['ytick.major.width'] = 1.5\n",
    "mpl.rcParams['legend.frameon'] = False\n",
    "%matplotlib inline"
   ]
  },
  {
   "cell_type": "markdown",
   "metadata": {},
   "source": [
    "Lets set up the usual toy example of fitting a line through data "
   ]
  },
  {
   "cell_type": "code",
   "execution_count": 2,
   "metadata": {},
   "outputs": [],
   "source": [
    "x = np.arange(20)\n",
    "sigma_noise = 2.\n",
    "theta_true = [2., 5.]"
   ]
  },
  {
   "cell_type": "markdown",
   "metadata": {},
   "source": [
    "Below is our simulation/forward model. In this toy example we'll assume that we have the **exact** simulation used to generate the observations. This assumption is not always true in real life!"
   ]
  },
  {
   "cell_type": "code",
   "execution_count": 3,
   "metadata": {},
   "outputs": [],
   "source": [
    "def FM(theta): \n",
    "    return theta[0] * x + theta[1]"
   ]
  },
  {
   "cell_type": "markdown",
   "metadata": {},
   "source": [
    "We'll generate our observations by first generating a noiseless \"true\" observations then adding Gaussian noise. "
   ]
  },
  {
   "cell_type": "code",
   "execution_count": 4,
   "metadata": {},
   "outputs": [],
   "source": [
    "y_true = FM(theta_true)\n",
    "y_obs = y_true + np.random.normal(loc=0, scale=sigma_noise, size=len(x))"
   ]
  },
  {
   "cell_type": "code",
   "execution_count": 5,
   "metadata": {},
   "outputs": [
    {
     "data": {
      "text/plain": [
       "(0.0, 20)"
      ]
     },
     "execution_count": 5,
     "metadata": {},
     "output_type": "execute_result"
    },
    {
     "data": {
      "image/png": "[encoded data removed]",
      "text/plain": [
       "<Figure size 432x288 with 1 Axes>"
      ]
     },
     "metadata": {
      "needs_background": "light"
     },
     "output_type": "display_data"
    }
   ],
   "source": [
    "fig = plt.figure()\n",
    "sub = fig.add_subplot(111)\n",
    "sub.errorbar(x, y_obs, sigma_noise, fmt='.k')\n",
    "sub.plot(x, y_true, c='C0')\n",
    "sub.set_xlim(0., 20)"
   ]
  },
  {
   "cell_type": "markdown",
   "metadata": {},
   "source": [
    "*In principle*, we want to get our posterior by comparing the full observed data to the simulated data. This however is intractable so typically we define a \"distance function\" which compares the \"distance\" between the summary statistics of the observed data and the simulated data. \n",
    "$$\\rho({\\bf s}_{\\rm data}, {\\bf s}(\\theta))$$\n",
    "\n",
    "For simplicity we'll use L2 norm"
   ]
  },
  {
   "cell_type": "code",
   "execution_count": 6,
   "metadata": {},
   "outputs": [],
   "source": [
    "def dist_fn(y_model, y_data): \n",
    "    # distrance function \n",
    "    return np.sum((y_model - y_data)**2/sigma_noise**2) # L2 norm"
   ]
  },
  {
   "cell_type": "markdown",
   "metadata": {},
   "source": [
    "Define a prior space (simple tophat below)"
   ]
  },
  {
   "cell_type": "code",
   "execution_count": 7,
   "metadata": {},
   "outputs": [],
   "source": [
    "prior = abcpmc.TophatPrior([0., 0.], [5., 10.])"
   ]
  },
  {
   "cell_type": "markdown",
   "metadata": {},
   "source": [
    "Now lets implement the simplest and dumbest abc based on rejection sampling. That's the one where you\n",
    "1. sample a random $\\theta$ from your prior space\n",
    "2. run it through your forward model $m(\\theta)$\n",
    "3. calculate the summary statistics $s(\\theta)$\n",
    "4. calculate $\\rho(s_{\\rm data}, s(\\theta))$\n",
    "5. check if the distance is within some preset threshold $\\epsilon$ (has to be pretty small)\n",
    "6. if it passes keep $\\theta$ otherwise discard\n",
    "7. repeat from step 1 until you get enough $\\theta$s that pass"
   ]
  },
  {
   "cell_type": "code",
   "execution_count": 8,
   "metadata": {},
   "outputs": [],
   "source": [
    "def prior_sampler(): \n",
    "    # function to randomly sample the prior space\n",
    "    return np.random.uniform(size=2) * (prior.max - prior.min) + prior.min"
   ]
  },
  {
   "cell_type": "code",
   "execution_count": 9,
   "metadata": {},
   "outputs": [],
   "source": [
    "# rejection sampling ABC\n",
    "eps = 25.\n",
    "particle_pool = []\n",
    "for i in range(100000): \n",
    "    _theta_i = prior_sampler() \n",
    "    dist = dist_fn(FM(_theta_i), y_obs)\n",
    "    \n",
    "    if dist <= eps: \n",
    "        particle_pool.append(_theta_i)\n",
    "    else: \n",
    "        continue"
   ]
  },
  {
   "cell_type": "code",
   "execution_count": 10,
   "metadata": {},
   "outputs": [
    {
     "data": {
      "text/plain": [
       "(0.0, 10.0)"
      ]
     },
     "execution_count": 10,
     "metadata": {},
     "output_type": "execute_result"
    },
    {
     "data": {
      "image/png": "[encoded data removed]",
      "text/plain": [
       "<Figure size 432x288 with 1 Axes>"
      ]
     },
     "metadata": {
      "needs_background": "light"
     },
     "output_type": "display_data"
    }
   ],
   "source": [
    "fig = plt.figure()\n",
    "sub = fig.add_subplot(111)\n",
    "sub.scatter(np.array(particle_pool)[:,0], np.array(particle_pool)[:,1], s=1) \n",
    "sub.scatter(theta_true[0], theta_true[1])\n",
    "sub.set_xlim(0., 5.)\n",
    "sub.set_ylim(0., 10.)"
   ]
  },
  {
   "cell_type": "code",
   "execution_count": 11,
   "metadata": {},
   "outputs": [
    {
     "data": {
      "text/plain": [
       "(0.0, 10.0)"
      ]
     },
     "execution_count": 11,
     "metadata": {},
     "output_type": "execute_result"
    },
    {
     "data": {
      "image/png": "[encoded data removed]",
      "text/plain": [
       "<Figure size 432x288 with 2 Axes>"
      ]
     },
     "metadata": {
      "needs_background": "light"
     },
     "output_type": "display_data"
    }
   ],
   "source": [
    "fig = plt.figure()\n",
    "sub = fig.add_subplot(211)\n",
    "sub.hist(np.array(particle_pool)[:,0], density=True, range=(0,5), bins=100)\n",
    "sub.set_xlim(0.,5.)\n",
    "sub = fig.add_subplot(212)\n",
    "sub.hist(np.array(particle_pool)[:,1], density=True, range=(0,10.), bins=40)\n",
    "sub.set_xlim(0.,10.)"
   ]
  },
  {
   "cell_type": "code",
   "execution_count": 12,
   "metadata": {},
   "outputs": [],
   "source": [
    "eps0 = 1e5\n",
    "Niter = 20"
   ]
  },
  {
   "cell_type": "code",
   "execution_count": 13,
   "metadata": {},
   "outputs": [],
   "source": [
    "eps = abcpmc.ConstEps(Niter, eps0)"
   ]
  },
  {
   "cell_type": "code",
   "execution_count": 19,
   "metadata": {},
   "outputs": [],
   "source": [
    "abc_sampler = abcpmc.Sampler(\n",
    "    N=100, #N_particles\n",
    "    Y=y_obs,             #data\n",
    "    postfn=FM,            #simulator \n",
    "    dist=dist_fn #distance function  \n",
    "    )  \n",
    "\n",
    "abc_sampler.particle_proposal_cls = abcpmc.ParticleProposal\n",
    "\n",
    "thetas = []\n",
    "for pool in abc_sampler.sample(prior, eps):\n",
    "    #while pool.ratio > 0.01:\n",
    "    print('epislon = %f' % pool.eps)\n",
    "    thetas.append(pool.thetas)\n",
    "    #print(pool.ws)\n",
    "    #print(pool.dists)\n",
    "\n",
    "    eps.eps = np.median(pool.dists)\n",
    "abc_sampler.close()"
   ]
  },
  {
   "cell_type": "code",
   "execution_count": 20,
   "metadata": {},
   "outputs": [
    {
     "data": {
      "text/plain": [
       "<Figure size 360x0 with 0 Axes>"
      ]
     },
     "metadata": {},
     "output_type": "display_data"
    }
   ],
   "source": [
    "fig = plt.figure(figsize=(5, 5*len(thetas)))\n",
    "for i in range(len(thetas)): \n",
    "    sub = fig.add_subplot(len(thetas),1,i+1)\n",
    "    sub.scatter(thetas[i][:,0], thetas[i][:,1])\n",
    "    sub.scatter(theta_true[0], theta_true[1], c='C1', s=5)\n",
    "    sub.set_xlim([0., 5.])\n",
    "    sub.set_ylim([0., 10.])"
   ]
  },
  {
   "cell_type": "code",
   "execution_count": 16,
   "metadata": {},
   "outputs": [],
   "source": [
    "theta_final = thetas[-1]"
   ]
  },
  {
   "cell_type": "code",
   "execution_count": 17,
   "metadata": {},
   "outputs": [
    {
     "data": {
      "text/plain": [
       "(0.0, 10.0)"
      ]
     },
     "execution_count": 17,
     "metadata": {},
     "output_type": "execute_result"
    },
    {
     "data": {
      "image/png": "[encoded data removed]",
      "text/plain": [
       "<Figure size 432x288 with 2 Axes>"
      ]
     },
     "metadata": {
      "needs_background": "light"
     },
     "output_type": "display_data"
    }
   ],
   "source": [
    "fig = plt.figure()\n",
    "sub = fig.add_subplot(211)\n",
    "sub.hist(theta_final[:,0], density=True, range=(0,5), bins=100)\n",
    "sub.vlines(theta_true[0], 0., 10., color='C1')\n",
    "sub.set_xlim(0.,5.)\n",
    "sub = fig.add_subplot(212)\n",
    "sub.hist(theta_final[:,1], density=True, range=(0,10.), bins=40)\n",
    "sub.vlines(theta_true[1], 0., 5., color='C1')\n",
    "sub.set_xlim(0.,10.)"
   ]
  },
  {
   "cell_type": "markdown",
   "metadata": {},
   "source": [
    "Exercise: Compare ABC implementation to MCMC with Gaussian likelihood"
   ]
  },
  {
   "cell_type": "code",
   "execution_count": null,
   "metadata": {},
   "outputs": [],
   "source": []
  },
  {
   "cell_type": "code",
   "execution_count": null,
   "metadata": {},
   "outputs": [],
   "source": []
  }
 ],
 "metadata": {
  "kernelspec": {
   "display_name": "Python 3",
   "language": "python",
   "name": "python3"
  },
  "language_info": {
   "codemirror_mode": {
    "name": "ipython",
    "version": 3
   },
   "file_extension": ".py",
   "mimetype": "text/x-python",
   "name": "python",
   "nbconvert_exporter": "python",
   "pygments_lexer": "ipython3",
   "version": "3.7.2"
  }
 },
 "nbformat": 4,
 "nbformat_minor": 2
}
